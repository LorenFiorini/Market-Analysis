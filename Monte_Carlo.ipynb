{
  "nbformat": 4,
  "nbformat_minor": 0,
  "metadata": {
    "colab": {
      "name": "Monte Carlo.ipynb",
      "provenance": [],
      "collapsed_sections": [],
      "authorship_tag": "ABX9TyP+wDLD8D221SUCSNjYb9t3",
      "include_colab_link": true
    },
    "kernelspec": {
      "name": "python3",
      "display_name": "Python 3"
    },
    "language_info": {
      "name": "python"
    }
  },
  "cells": [
    {
      "cell_type": "markdown",
      "metadata": {
        "id": "view-in-github",
        "colab_type": "text"
      },
      "source": [
        "<a href=\"https://colab.research.google.com/github/LorenFiorini/Monte_Carlo_Simulations/blob/main/Monte_Carlo.ipynb\" target=\"_parent\"><img src=\"https://colab.research.google.com/assets/colab-badge.svg\" alt=\"Open In Colab\"/></a>"
      ]
    },
    {
      "cell_type": "code",
      "execution_count": 1,
      "metadata": {
        "id": "1_S5TRtm1xvm"
      },
      "outputs": [],
      "source": [
        "import math\n",
        "import numpy as np\n",
        "import pandas as pd\n",
        "import datetime\n",
        "import scipy.stats as stats\n",
        "import matplotlib.pyplot as plt\n",
        "from pandas_datareader import data as pdr"
      ]
    },
    {
      "cell_type": "code",
      "source": [
        "# initial derivative parameters \n",
        "S = 101.15          #stock price\n",
        "K = 98.01           #strike price\n",
        "vol = 0.0991        #volatility (%)\n",
        "r = 0.01            #risk-free rate (%)\n",
        "N = 10              #number of time steps\n",
        "M = 1000            #number of simulations\n",
        "\n",
        "market_value = 3.86 #market price of option\n",
        "T = ((datetime.date(2022,3,17)-datetime.date.today()).days+1)/365    #time in years\n",
        "print(T)"
      ],
      "metadata": {
        "colab": {
          "base_uri": "https://localhost:8080/"
        },
        "id": "1fSbCFZ1trZL",
        "outputId": "d1236f28-4d87-4d32-9d0c-3edb5a452cea"
      },
      "execution_count": 3,
      "outputs": [
        {
          "output_type": "stream",
          "name": "stdout",
          "text": [
            "-0.08767123287671233\n"
          ]
        }
      ]
    }
  ]
}