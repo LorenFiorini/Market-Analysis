{
  "nbformat": 4,
  "nbformat_minor": 0,
  "metadata": {
    "colab": {
      "name": "Monte Carlo.ipynb",
      "provenance": [],
      "collapsed_sections": [],
      "toc_visible": true,
      "authorship_tag": "ABX9TyPPCNR9fucAtace8YwWV+pU",
      "include_colab_link": true
    },
    "kernelspec": {
      "name": "python3",
      "display_name": "Python 3"
    },
    "language_info": {
      "name": "python"
    }
  },
  "cells": [
    {
      "cell_type": "markdown",
      "metadata": {
        "id": "view-in-github",
        "colab_type": "text"
      },
      "source": [
        "<a href=\"https://colab.research.google.com/github/LorenFiorini/Monte_Carlo_Simulations/blob/main/Monte_Carlo.ipynb\" target=\"_parent\"><img src=\"https://colab.research.google.com/assets/colab-badge.svg\" alt=\"Open In Colab\"/></a>"
      ]
    },
    {
      "cell_type": "code",
      "execution_count": 11,
      "metadata": {
        "id": "1_S5TRtm1xvm"
      },
      "outputs": [],
      "source": [
        "import math\n",
        "import numpy as np\n",
        "import pandas as pd\n",
        "import datetime\n",
        "import scipy.stats as stats\n",
        "import matplotlib.pyplot as plt\n",
        "from pandas_datareader import data as pdr"
      ]
    },
    {
      "cell_type": "code",
      "source": [
        "# initial derivative parameters \n",
        "S = 101.15          #stock price\n",
        "K = 98.01           #strike price\n",
        "vol = 0.0991        #volatility (%)\n",
        "r = 0.01            #risk-free rate (%)\n",
        "N = 10              #number of time steps\n",
        "M = 1000            #number of simulations\n",
        "\n",
        "market_value = 3.86 #market price of option\n",
        "T = ((datetime.date(2022,7,17) - datetime.date.today()).days+1)/365    #time in years\n",
        "print(T)"
      ],
      "metadata": {
        "colab": {
          "base_uri": "https://localhost:8080/"
        },
        "id": "1fSbCFZ1trZL",
        "outputId": "2e504cc8-6138-498c-b630-9a253296ce31"
      },
      "execution_count": 12,
      "outputs": [
        {
          "output_type": "stream",
          "name": "stdout",
          "text": [
            "0.24383561643835616\n"
          ]
        }
      ]
    },
    {
      "cell_type": "code",
      "source": [
        "# Precompute constants\n",
        "dt = T/N\n",
        "nudt = (r - 0.5 * vol ** 2) * dt\n",
        "volsdt = vol * np.sqrt(dt)\n",
        "lnS = np.log(S)\n",
        "\n",
        "# Standard Error Placeholders\n",
        "sum_CT = 0\n",
        "sum_CT2 = 0\n",
        "\n",
        "# Monte Carlo Method\n",
        "for i in range(M):\n",
        "    lnSt = lnS\n",
        "    for j in range(N):\n",
        "        lnSt = lnSt + nudt + volsdt * np.random.normal()\n",
        "    \n",
        "    ST = np.exp(lnSt)\n",
        "    CT = max(0, ST - K)\n",
        "    sum_CT = sum_CT + CT\n",
        "    sum_CT2 = sum_CT2 + CT*CT\n",
        "\n",
        "# Compute Expectation and SE\n",
        "C0 = np.exp(-r*T) * sum_CT / M\n",
        "sigma = np.sqrt( (sum_CT2 - sum_CT * sum_CT / M) * np.exp(-2*r*T) / (M-1) )\n",
        "SE = sigma / np.sqrt(M)\n",
        "\n",
        "print(\"Call value is ${0} with SE +/- {1}\".format(np.round(C0,2), np.round(SE,2)))"
      ],
      "metadata": {
        "colab": {
          "base_uri": "https://localhost:8080/"
        },
        "id": "8IhNSQyVuJE2",
        "outputId": "0ce4e734-c55a-4a22-e3b0-b9b1ba676bb9"
      },
      "execution_count": 13,
      "outputs": [
        {
          "output_type": "stream",
          "name": "stdout",
          "text": [
            "Call value is $3.88 with SE +/- 0.13\n"
          ]
        }
      ]
    },
    {
      "cell_type": "code",
      "source": [
        "#precompute constants\n",
        "dt = T/N\n",
        "nudt = (r - 0.5*vol**2)*dt\n",
        "volsdt = vol*np.sqrt(dt)\n",
        "lnS = np.log(S)\n",
        "\n",
        "# Monte Carlo Method\n",
        "Z = np.random.normal(size=(N, M)) \n",
        "delta_lnSt = nudt + volsdt*Z \n",
        "lnSt = lnS + np.cumsum(delta_lnSt, axis=0)\n",
        "lnSt = np.concatenate( (np.full(shape=(1, M), fill_value=lnS), lnSt ) )\n",
        "\n",
        "# Compute Expectation and SE\n",
        "ST = np.exp(lnSt)\n",
        "CT = np.maximum(0, ST - K)\n",
        "C0 = np.exp(-r*T)*np.sum(CT[-1])/M\n",
        "\n",
        "sigma = np.sqrt( np.sum( (CT[-1] - C0)**2) / (M-1) )\n",
        "SE = sigma/np.sqrt(M)\n",
        "\n",
        "print(\"Call value is ${0} with SE +/- {1}\".format(np.round(C0,2),np.round(SE,2)))"
      ],
      "metadata": {
        "colab": {
          "base_uri": "https://localhost:8080/"
        },
        "id": "Ri3c9X-zuJsg",
        "outputId": "7930d252-9035-463d-af21-df6fd7d5fa64"
      },
      "execution_count": 14,
      "outputs": [
        {
          "output_type": "stream",
          "name": "stdout",
          "text": [
            "Call value is $4.17 with SE +/- 0.12\n"
          ]
        }
      ]
    }
  ]
}